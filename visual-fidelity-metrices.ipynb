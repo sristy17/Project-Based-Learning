{
 "cells": [
  {
   "cell_type": "markdown",
   "id": "ba21bf7c",
   "metadata": {
    "papermill": {
     "duration": 0.003717,
     "end_time": "2025-02-09T06:09:40.012869",
     "exception": false,
     "start_time": "2025-02-09T06:09:40.009152",
     "status": "completed"
    },
    "tags": []
   },
   "source": [
    "# Visual Fidelity Metric"
   ]
  },
  {
   "cell_type": "markdown",
   "id": "46be4e08",
   "metadata": {
    "papermill": {
     "duration": 0.002616,
     "end_time": "2025-02-09T06:09:40.018814",
     "exception": false,
     "start_time": "2025-02-09T06:09:40.016198",
     "status": "completed"
    },
    "tags": []
   },
   "source": [
    "## Importing libraries"
   ]
  },
  {
   "cell_type": "code",
   "execution_count": 1,
   "id": "88e8d71b",
   "metadata": {
    "execution": {
     "iopub.execute_input": "2025-02-09T06:09:40.025800Z",
     "iopub.status.busy": "2025-02-09T06:09:40.025381Z",
     "iopub.status.idle": "2025-02-09T06:09:40.405074Z",
     "shell.execute_reply": "2025-02-09T06:09:40.404089Z"
    },
    "papermill": {
     "duration": 0.385478,
     "end_time": "2025-02-09T06:09:40.407087",
     "exception": false,
     "start_time": "2025-02-09T06:09:40.021609",
     "status": "completed"
    },
    "tags": []
   },
   "outputs": [],
   "source": [
    "import numpy as np\n",
    "import cv2"
   ]
  },
  {
   "cell_type": "markdown",
   "id": "d6c3f5ca",
   "metadata": {
    "papermill": {
     "duration": 0.002725,
     "end_time": "2025-02-09T06:09:40.412887",
     "exception": false,
     "start_time": "2025-02-09T06:09:40.410162",
     "status": "completed"
    },
    "tags": []
   },
   "source": [
    "## VIF implementation"
   ]
  },
  {
   "cell_type": "code",
   "execution_count": 2,
   "id": "614f8f95",
   "metadata": {
    "execution": {
     "iopub.execute_input": "2025-02-09T06:09:40.419630Z",
     "iopub.status.busy": "2025-02-09T06:09:40.419283Z",
     "iopub.status.idle": "2025-02-09T06:09:40.434518Z",
     "shell.execute_reply": "2025-02-09T06:09:40.433602Z"
    },
    "papermill": {
     "duration": 0.02063,
     "end_time": "2025-02-09T06:09:40.436272",
     "exception": false,
     "start_time": "2025-02-09T06:09:40.415642",
     "status": "completed"
    },
    "tags": []
   },
   "outputs": [],
   "source": [
    "\n",
    "def integral_image(x):\n",
    "    M, N = x.shape\n",
    "    int_x = np.zeros((M+1, N+1))\n",
    "    int_x[1:, 1:] = np.cumsum(np.cumsum(x, 0), 1)\n",
    "    return int_x\n",
    "\n",
    "def moments(x, y, k, stride):\n",
    "    kh = kw = k\n",
    "\n",
    "    k_norm = k**2\n",
    "\n",
    "    x_pad = np.pad(x, int((kh - stride)/2), mode='reflect')\n",
    "    y_pad = np.pad(y, int((kw - stride)/2), mode='reflect')\n",
    "\n",
    "    int_1_x = integral_image(x_pad)\n",
    "    int_1_y = integral_image(y_pad)\n",
    "\n",
    "    int_2_x = integral_image(x_pad*x_pad)\n",
    "    int_2_y = integral_image(y_pad*y_pad)\n",
    "\n",
    "    int_xy = integral_image(x_pad*y_pad)\n",
    "\n",
    "    mu_x = (int_1_x[:-kh:stride, :-kw:stride] - int_1_x[:-kh:stride, kw::stride] - int_1_x[kh::stride, :-kw:stride] + int_1_x[kh::stride, kw::stride])/k_norm\n",
    "    mu_y = (int_1_y[:-kh:stride, :-kw:stride] - int_1_y[:-kh:stride, kw::stride] - int_1_y[kh::stride, :-kw:stride] + int_1_y[kh::stride, kw::stride])/k_norm\n",
    "\n",
    "    var_x = (int_2_x[:-kh:stride, :-kw:stride] - int_2_x[:-kh:stride, kw::stride] - int_2_x[kh::stride, :-kw:stride] + int_2_x[kh::stride, kw::stride])/k_norm - mu_x**2\n",
    "    var_y = (int_2_y[:-kh:stride, :-kw:stride] - int_2_y[:-kh:stride, kw::stride] - int_2_y[kh::stride, :-kw:stride] + int_2_y[kh::stride, kw::stride])/k_norm - mu_y**2\n",
    "\n",
    "    cov_xy = (int_xy[:-kh:stride, :-kw:stride] - int_xy[:-kh:stride, kw::stride] - int_xy[kh::stride, :-kw:stride] + int_xy[kh::stride, kw::stride])/k_norm - mu_x*mu_y\n",
    "\n",
    "    mask_x = (var_x < 0)\n",
    "    mask_y = (var_y < 0)\n",
    "\n",
    "    var_x[mask_x] = 0\n",
    "    var_y[mask_y] = 0\n",
    "\n",
    "    cov_xy[mask_x + mask_y] = 0\n",
    "\n",
    "    return (mu_x, mu_y, var_x, var_y, cov_xy)\n",
    "\n",
    "def vif_spatial(img_ref, img_dist, k=11, sigma_nsq=0.1, stride=1, full=False):\n",
    "    x = img_ref.astype('float32')\n",
    "    y = img_dist.astype('float32')\n",
    "\n",
    "    mu_x, mu_y, var_x, var_y, cov_xy = moments(x, y, k, stride)\n",
    "\n",
    "    g = cov_xy / (var_x + 1e-10)\n",
    "    sv_sq = var_y - g * cov_xy\n",
    "\n",
    "    g[var_x < 1e-10] = 0\n",
    "    sv_sq[var_x < 1e-10] = var_y[var_x < 1e-10]\n",
    "    var_x[var_x < 1e-10] = 0\n",
    "\n",
    "    g[var_y < 1e-10] = 0\n",
    "    sv_sq[var_y < 1e-10] = 0\n",
    "\n",
    "    sv_sq[g < 0] = var_x[g < 0]\n",
    "    g[g < 0] = 0\n",
    "    sv_sq[sv_sq < 1e-10] = 1e-10\n",
    "\n",
    "    vif_val = np.sum(np.log(1 + g**2 * var_x / (sv_sq + sigma_nsq)) + 1e-4)/np.sum(np.log(1 + var_x / sigma_nsq) + 1e-4)\n",
    "    if full:\n",
    "        return (np.sum(np.log(1 + g**2 * var_x / (sv_sq + sigma_nsq)) + 1e-4), np.sum(np.log(1 + var_x / sigma_nsq) + 1e-4), vif_val)\n",
    "    else:\n",
    "        return vif_val"
   ]
  },
  {
   "cell_type": "markdown",
   "id": "b45d9e65",
   "metadata": {
    "papermill": {
     "duration": 0.002639,
     "end_time": "2025-02-09T06:09:40.442024",
     "exception": false,
     "start_time": "2025-02-09T06:09:40.439385",
     "status": "completed"
    },
    "tags": []
   },
   "source": [
    "## Importing Images"
   ]
  },
  {
   "cell_type": "code",
   "execution_count": 3,
   "id": "ce3f5e26",
   "metadata": {
    "execution": {
     "iopub.execute_input": "2025-02-09T06:09:40.449302Z",
     "iopub.status.busy": "2025-02-09T06:09:40.448813Z",
     "iopub.status.idle": "2025-02-09T06:09:40.628206Z",
     "shell.execute_reply": "2025-02-09T06:09:40.627093Z"
    },
    "papermill": {
     "duration": 0.185516,
     "end_time": "2025-02-09T06:09:40.630359",
     "exception": false,
     "start_time": "2025-02-09T06:09:40.444843",
     "status": "completed"
    },
    "tags": []
   },
   "outputs": [],
   "source": [
    "img_ref = cv2.imread('/kaggle/input/colon-10x/10x/35_colon_10x.tif', cv2.IMREAD_GRAYSCALE)\n",
    "img_dist = cv2.imread('/kaggle/input/colon-10x/10x/36_colon_10x.tif', cv2.IMREAD_GRAYSCALE)"
   ]
  },
  {
   "cell_type": "markdown",
   "id": "8f8db3d2",
   "metadata": {
    "papermill": {
     "duration": 0.002736,
     "end_time": "2025-02-09T06:09:40.636586",
     "exception": false,
     "start_time": "2025-02-09T06:09:40.633850",
     "status": "completed"
    },
    "tags": []
   },
   "source": [
    "## Ensure images are the same size"
   ]
  },
  {
   "cell_type": "code",
   "execution_count": 4,
   "id": "e724c37f",
   "metadata": {
    "execution": {
     "iopub.execute_input": "2025-02-09T06:09:40.643642Z",
     "iopub.status.busy": "2025-02-09T06:09:40.643281Z",
     "iopub.status.idle": "2025-02-09T06:09:40.651621Z",
     "shell.execute_reply": "2025-02-09T06:09:40.650535Z"
    },
    "papermill": {
     "duration": 0.014585,
     "end_time": "2025-02-09T06:09:40.653948",
     "exception": false,
     "start_time": "2025-02-09T06:09:40.639363",
     "status": "completed"
    },
    "tags": []
   },
   "outputs": [],
   "source": [
    "img_ref = cv2.resize(img_ref, (img_dist.shape[1], img_dist.shape[0]))"
   ]
  },
  {
   "cell_type": "markdown",
   "id": "9fb1fd13",
   "metadata": {
    "papermill": {
     "duration": 0.002865,
     "end_time": "2025-02-09T06:09:40.660275",
     "exception": false,
     "start_time": "2025-02-09T06:09:40.657410",
     "status": "completed"
    },
    "tags": []
   },
   "source": [
    "## Run VIF"
   ]
  },
  {
   "cell_type": "code",
   "execution_count": 5,
   "id": "564e2415",
   "metadata": {
    "execution": {
     "iopub.execute_input": "2025-02-09T06:09:40.667141Z",
     "iopub.status.busy": "2025-02-09T06:09:40.666792Z",
     "iopub.status.idle": "2025-02-09T06:09:41.098787Z",
     "shell.execute_reply": "2025-02-09T06:09:41.097738Z"
    },
    "papermill": {
     "duration": 0.438447,
     "end_time": "2025-02-09T06:09:41.101502",
     "exception": false,
     "start_time": "2025-02-09T06:09:40.663055",
     "status": "completed"
    },
    "tags": []
   },
   "outputs": [],
   "source": [
    "vif_value = vif_spatial(img_ref, img_dist, k=11, sigma_nsq=0.1, stride=1, full=False)"
   ]
  },
  {
   "cell_type": "code",
   "execution_count": 6,
   "id": "0b3c32ed",
   "metadata": {
    "execution": {
     "iopub.execute_input": "2025-02-09T06:09:41.109042Z",
     "iopub.status.busy": "2025-02-09T06:09:41.108562Z",
     "iopub.status.idle": "2025-02-09T06:09:41.115310Z",
     "shell.execute_reply": "2025-02-09T06:09:41.113864Z"
    },
    "papermill": {
     "duration": 0.012774,
     "end_time": "2025-02-09T06:09:41.117345",
     "exception": false,
     "start_time": "2025-02-09T06:09:41.104571",
     "status": "completed"
    },
    "tags": []
   },
   "outputs": [
    {
     "name": "stdout",
     "output_type": "stream",
     "text": [
      "VIF score: 0.05726499633762726\n"
     ]
    }
   ],
   "source": [
    "print(f\"VIF score: {vif_value}\")"
   ]
  }
 ],
 "metadata": {
  "kaggle": {
   "accelerator": "none",
   "dataSources": [
    {
     "datasetId": 6630837,
     "sourceId": 10700109,
     "sourceType": "datasetVersion"
    }
   ],
   "dockerImageVersionId": 30886,
   "isGpuEnabled": false,
   "isInternetEnabled": true,
   "language": "python",
   "sourceType": "notebook"
  },
  "kernelspec": {
   "display_name": "Python 3",
   "language": "python",
   "name": "python3"
  },
  "language_info": {
   "codemirror_mode": {
    "name": "ipython",
    "version": 3
   },
   "file_extension": ".py",
   "mimetype": "text/x-python",
   "name": "python",
   "nbconvert_exporter": "python",
   "pygments_lexer": "ipython3",
   "version": "3.10.12"
  },
  "papermill": {
   "default_parameters": {},
   "duration": 4.967586,
   "end_time": "2025-02-09T06:09:41.844229",
   "environment_variables": {},
   "exception": null,
   "input_path": "__notebook__.ipynb",
   "output_path": "__notebook__.ipynb",
   "parameters": {},
   "start_time": "2025-02-09T06:09:36.876643",
   "version": "2.6.0"
  }
 },
 "nbformat": 4,
 "nbformat_minor": 5
}
